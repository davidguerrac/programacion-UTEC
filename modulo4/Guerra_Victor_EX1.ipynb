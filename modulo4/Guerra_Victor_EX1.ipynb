{
  "nbformat": 4,
  "nbformat_minor": 0,
  "metadata": {
    "colab": {
      "provenance": [],
      "authorship_tag": "ABX9TyNHKEYTzhnuoq0JqTeZ4MVv",
      "include_colab_link": true
    },
    "kernelspec": {
      "name": "python3",
      "display_name": "Python 3"
    },
    "language_info": {
      "name": "python"
    }
  },
  "cells": [
    {
      "cell_type": "markdown",
      "metadata": {
        "id": "view-in-github",
        "colab_type": "text"
      },
      "source": [
        "<a href=\"https://colab.research.google.com/github/davidguerrac/programacion-UTEC/blob/main/modulo4/Guerra_Victor_EX1.ipynb\" target=\"_parent\"><img src=\"https://colab.research.google.com/assets/colab-badge.svg\" alt=\"Open In Colab\"/></a>"
      ]
    },
    {
      "cell_type": "markdown",
      "source": [
        "###PREGUNTA1"
      ],
      "metadata": {
        "id": "BOpDhD4gPoL2"
      }
    },
    {
      "cell_type": "code",
      "source": [
        "# A continuación tienes un objeto que registra las ventas semanales de una tienda deelectrodomésticos,\n",
        "# se registra en el siguiente orden, desde la primera semana a la doceava semana.\n",
        "\n",
        "# Ventas_semanales = [25000, 28000, 31000, 27500, 33000, 29000,35000, 32000, 30000, 28500, 26000, 33500]\n",
        "\n",
        "# 1.1. Identifica la semana con el mejor resultado de venta.\n",
        "# 1.2. Identifica la semana con el peor resultado de venta.\n",
        "# 1.3. Calcula la venta promedio de la tienda\n",
        "# 1.4. Calcula alguna medida de dispersión de las ventas.\n",
        "# 1.5. Crea un diccionario con la información registrada en los puntos anteriores y nómbralo como info_ventas."
      ],
      "metadata": {
        "id": "za5ImIBmPsKX"
      },
      "execution_count": 27,
      "outputs": []
    },
    {
      "cell_type": "code",
      "source": [
        "# Lista de ventas semanales\n",
        "Ventas_semanales = [25000, 28000, 31000, 27500, 33000, 29000, 35000, 32000, 30000, 28500, 26000, 33500]\n",
        "\n",
        "# Identificar la semana con el mejor resultado de venta\n",
        "mejor_venta = max(Ventas_semanales)\n",
        "semana_mejor_venta = Ventas_semanales.index(mejor_venta) + 1\n",
        "\n",
        "# Identificar la semana con el peor resultado de venta\n",
        "peor_venta = min(Ventas_semanales)\n",
        "semana_peor_venta = Ventas_semanales.index(peor_venta) + 1\n",
        "\n",
        "# Calcular la venta promedio de la tienda\n",
        "venta_promedio = sum(Ventas_semanales) / len(Ventas_semanales)\n",
        "\n",
        "# Crear el diccionario con la información registrada\n",
        "info_ventas = {\n",
        "    \"semana_mejor_venta\": semana_mejor_venta,\n",
        "    \"mejor_venta\": mejor_venta,\n",
        "    \"semana_peor_venta\": semana_peor_venta,\n",
        "    \"peor_venta\": peor_venta,\n",
        "    \"venta_promedio\": venta_promedio\n",
        "}"
      ],
      "metadata": {
        "id": "3ePF2QHMQTSd"
      },
      "execution_count": 25,
      "outputs": []
    },
    {
      "cell_type": "code",
      "source": [
        "info_ventas"
      ],
      "metadata": {
        "colab": {
          "base_uri": "https://localhost:8080/"
        },
        "id": "hemKQ3eUQZ-s",
        "outputId": "3c052d8e-710e-4d70-cc0a-12fb43a9717c"
      },
      "execution_count": 26,
      "outputs": [
        {
          "output_type": "execute_result",
          "data": {
            "text/plain": [
              "{'semana_mejor_venta': 7,\n",
              " 'mejor_venta': 35000,\n",
              " 'semana_peor_venta': 1,\n",
              " 'peor_venta': 25000,\n",
              " 'venta_promedio': 29875.0}"
            ]
          },
          "metadata": {},
          "execution_count": 26
        }
      ]
    },
    {
      "cell_type": "code",
      "source": [
        "# Usted va simular el lanzamiento de dos a la vez, para ello es necesario que siga las\n",
        "# siguientes instrucciones.\n",
        "\n",
        "# 2.1. Almacenar los resultados de lanzar un dado en una tupla de la siguiente manera tupla_dados = (1, 2, 3, 4, 5, 6).\n",
        "# 2.2. Use la función random.choice(tupla_dados) para recrear la selección aleatoria al lanzar un dado. Importe la librería random (import random).\n",
        "# 2.3. Simule el lanzamiento de dos a la vez, registre el valor obtenido por cada lanzamiento de cada dado.\n",
        "# 2.4. Ingrese por teclado el número de lanzamientos de ambos dados a la vez.\n",
        "# 2.5. Muestre los lanzamientos resultantes.\n",
        "# 2.6. Muestre la sumatoria de los dos valores resultantes al lanzar dos dados a la vez"
      ],
      "metadata": {
        "id": "TfWPwgl2Q2oH"
      },
      "execution_count": 29,
      "outputs": []
    },
    {
      "cell_type": "code",
      "source": [
        "import random\n",
        "\n",
        "# Almacena los resultados de lanzar un dado en una tupla\n",
        "tupla_dados = (1, 2, 3, 4, 5, 6)\n",
        "\n",
        "#Ingresar por teclado el número de lanzamientos de ambos dados a la vez\n",
        "num_lanzamientos = int(input(\"Ingrese el número de lanzamientos: \"))\n",
        "\n",
        "#Simule el lanzamiento de dos dados a la vez\n",
        "resultados_lanzamientos = []\n",
        "for _ in range(num_lanzamientos):\n",
        "    dado1 = random.choice(tupla_dados)\n",
        "    dado2 = random.choice(tupla_dados)\n",
        "    resultados_lanzamientos.append((dado1, dado2))\n",
        "\n",
        "#Mostrar los lanzamientos resultantes\n",
        "#se utilizo for  para iterar sobre una lista de resultados de lanzamientos de dados\n",
        "#se ulitizo enumerate para añadir un contador a un iterable (como una lista)ademas\n",
        "#de que puede ser usado directamente por bucles for para asi obtener el indice del resultado\n",
        "#como el valor del elemento a cada iteracion\n",
        "\n",
        "print(\"Resultados de los lanzamientos:\")\n",
        "for i, (dado1, dado2) in enumerate(resultados_lanzamientos, start=1):\n",
        "    print(f\"Lanzamiento {i}: Dado 1 = {dado1}, Dado 2 = {dado2}\")\n",
        "\n",
        "#Mostrar la sumatoria de los dos valores resultantes al lanzar dos dados a la vez\n",
        "sumatorias = [dado1 + dado2 for dado1, dado2 in resultados_lanzamientos]\n",
        "print(\"\\nSumatorias de los lanzamientos:\")\n",
        "for i, suma in enumerate(sumatorias, start=1):\n",
        "    print(f\"Lanzamiento {i}: Sumatoria = {suma}\")"
      ],
      "metadata": {
        "colab": {
          "base_uri": "https://localhost:8080/"
        },
        "id": "ya_8FsY2REqJ",
        "outputId": "af94e322-c0cb-4ce3-9c0f-8a6c329a18c3"
      },
      "execution_count": 34,
      "outputs": [
        {
          "output_type": "stream",
          "name": "stdout",
          "text": [
            "Ingrese el número de lanzamientos: 4\n",
            "Resultados de los lanzamientos:\n",
            "Lanzamiento 1: Dado 1 = 5, Dado 2 = 6\n",
            "Lanzamiento 2: Dado 1 = 4, Dado 2 = 6\n",
            "Lanzamiento 3: Dado 1 = 2, Dado 2 = 3\n",
            "Lanzamiento 4: Dado 1 = 3, Dado 2 = 5\n",
            "\n",
            "Sumatorias de los lanzamientos:\n",
            "Lanzamiento 1: Sumatoria = 11\n",
            "Lanzamiento 2: Sumatoria = 10\n",
            "Lanzamiento 3: Sumatoria = 5\n",
            "Lanzamiento 4: Sumatoria = 8\n"
          ]
        }
      ]
    },
    {
      "cell_type": "markdown",
      "source": [
        "<!-- Usted va simular el lanzamiento de dos a la vez, para ello es necesario que siga las\n",
        "siguientes instrucciones. (12 puntos)\n",
        "2.1. Almacenar los resultados de lanzar un dado en una tupla de la siguiente manera\n",
        "tupla_dados = (1, 2, 3, 4, 5, 6).\n",
        "2.2. Use la función random.choice(tupla_dados) para recrear la selección aleatoria al\n",
        "lanzar un dado. Importe la librería random (import random).\n",
        "2.3. Simule el lanzamiento de dos a la vez, registre el valor obtenido por cada\n",
        "lanzamiento de cada dado.\n",
        "2.4. Ingrese por teclado el número de lanzamientos de ambos dados a la vez.\n",
        "2.5. Muestre los lanzamientos resultantes.\n",
        "2.6. Muestre la sumatoria de los dos valores resultantes al lanzar dos dados a la vez -->"
      ],
      "metadata": {
        "id": "_SME9a9TQjmI"
      }
    }
  ]
}